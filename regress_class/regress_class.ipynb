{
 "cells": [
  {
   "cell_type": "markdown",
   "source": "# Regression, classification\n",
   "metadata": {
    "cell_id": "cbf68e03-e88a-4224-b4ca-a3d2e70e0a9b",
    "deepnote_cell_type": "markdown",
    "deepnote_cell_height": 81
   }
  },
  {
   "cell_type": "markdown",
   "source": "## This exercise uses Berkeley data science teaching materials\n\nThis exercise contains parts of labs 11 and 12 from section 3 of\n<https://github.com/data-8/materials-x19> with thanks.  See that URL for more\non the license for these materials.  We release this version, like the\noriginal, under the  [Creative Commons Attribution-NonCommercial 4.0\nInternational license](https://creativecommons.org/licenses/by-nc/4.0) (CC\nBY-NC 4.0).",
   "metadata": {
    "cell_id": "00001-f049ab12-8a36-4697-889f-ec0810865b92",
    "deepnote_cell_type": "markdown",
    "deepnote_cell_height": 212.640625
   }
  },
  {
   "cell_type": "markdown",
   "source": "# Welcome\n\nPlease complete this notebook by filling in the cells provided. Before you\nbegin, execute the following cell to load the provided tests. Each time you\nstart your server, you will need to execute this cell again to load the tests.\n\nDirectly sharing answers is not okay, but discussing problems with the course\nstaff or with other students is encouraged. Refer to the Working Together page\nto learn more about how to learn cooperatively.\n\nFor all problems that you must write our explanations and sentences for, you **must** provide your answer in the designated space. Moreover, throughout this homework and all future ones, please be sure to not re-assign variables throughout the notebook! For example, if you use `max_temperature` in your answer to one question, do not reassign it later on.\n\nAs usual, the tests check if you are in the ballpark, but do not check if you have the correct answer.\n\nIf your tests here fail, you will not get marks for the question, but if the\ntests pass, you may still not get marks, because your answer may still be\nincorrect.",
   "metadata": {
    "cell_id": "00002-34a33a4c-cb39-4be2-8d6c-9298dcde2e35",
    "deepnote_cell_type": "markdown",
    "deepnote_cell_height": 457.3125
   }
  },
  {
   "cell_type": "code",
   "metadata": {
    "cell_id": "00003-929410a1-e5d7-4fcc-9935-74bdadcb20fb",
    "deepnote_cell_type": "code",
    "deepnote_cell_height": 479.6875
   },
   "source": "# Don't change this cell; just run it. \nimport numpy as np\nimport pandas as pd\n# Safe settings for Pandas.\npd.set_option('mode.chained_assignment', 'raise')\n\n# These lines do some fancy plotting magic.\nimport matplotlib\n%matplotlib inline\nimport matplotlib.pyplot as plt\nplt.style.use('fivethirtyeight')\n\n# Minimize function from Scipy\nfrom scipy.optimize import minimize\n\n# Interactive widgets\n#from ipywidgets import interact, interactive, fixed\n#import ipywidgets as widgets\n# ipywidgets doesn't work in deepnote - AO\n# if you are working on your local machine and install ipywidgets you could uncomment this\n\n# Load the OKpy test library and tests.\nfrom client.api.notebook import Notebook\nok = Notebook('regress_class.ok')",
   "execution_count": null,
   "outputs": []
  },
  {
   "cell_type": "markdown",
   "source": "## 1. Residuals and linear regression\n",
   "metadata": {
    "cell_id": "00004-9a3003e9-a7d9-4505-ae69-d9a631f351a3",
    "deepnote_cell_type": "markdown",
    "deepnote_cell_height": 69.6875
   }
  },
  {
   "cell_type": "markdown",
   "source": "### Regression Model Diagnostics",
   "metadata": {
    "cell_id": "00005-3eb3df6a-b998-4c9a-be14-e16ed4fcfbbd",
    "deepnote_cell_type": "markdown",
    "deepnote_cell_height": 61
   }
  },
  {
   "cell_type": "markdown",
   "source": "Linear regression isn't always the best way to describe the relationship\nbetween two variables. We'd like to develop techniques that will help us\ndecide whether or not to use a linear model to predict one variable based on\nanother.\n\nWe will use the insight that if a regression fits a set of points well, then\nthe residuals from that regression line will show no pattern when plotted\nagainst the predictor variable. \n\nThe data frame below contains information about crime rates and median home\nvalues in suburbs of Boston, as of 1970. We will attempt to use linear\nregression to predict median home value in terms of crime rate.\n\nSee <https://github.com/odsti/datasets/tree/master/boston_housing> for more\ndetails on the dataset.",
   "metadata": {
    "cell_id": "00006-a1b7bf4b-1076-4e7c-ac8a-b1605941c66f",
    "deepnote_cell_type": "markdown",
    "deepnote_cell_height": 289.0625
   }
  },
  {
   "cell_type": "markdown",
   "source": "#### About the dataset\n\nWe will start by looking at two columns in this dataset - `crime_rate` and `median_home_value`.\n\nCrime rates are per capita per year; home values are in thousands of dollars.\nThe crime data come from the FBI, and home values are from the US Census\nBureau.\n\nRun the next cell to load the data.",
   "metadata": {
    "cell_id": "00007-5e8e0aeb-3cc3-4bac-9f0a-36d76151166b",
    "deepnote_cell_type": "markdown",
    "deepnote_cell_height": 201.859375
   }
  },
  {
   "cell_type": "code",
   "metadata": {
    "cell_id": "00008-cddecb23-bb1b-4adc-85ef-460772ad7c32",
    "deepnote_cell_type": "code"
   },
   "source": "boston = pd.read_csv('boston_corrected.csv')\nboston.head()",
   "execution_count": null,
   "outputs": []
  },
  {
   "cell_type": "markdown",
   "source": "Here is a scatterplot of the two columns of interest to us at the moment:",
   "metadata": {
    "cell_id": "00009-aaa1172e-96b7-49ec-9550-b7947213ca91",
    "deepnote_cell_type": "markdown"
   }
  },
  {
   "cell_type": "code",
   "metadata": {
    "cell_id": "00010-142c6738-19c5-4895-bcc2-1957b220097f",
    "deepnote_cell_type": "code"
   },
   "source": "boston.plot.scatter('crime_rate', 'median_home_value');",
   "execution_count": null,
   "outputs": []
  },
  {
   "cell_type": "markdown",
   "source": "#### Question 0\n\nRemember, the correlation is a measure of linear association between two sequences.  Here our sequences are the values for the `crime_rate` column and the values for the `median_home_value` column.\n\nAlso remember, that the correlation can be deceiving in various ways.  One way\nit can be deceiving is if the relationship between the two sequences is not\nlinear (a straight line), but some other shape.\n\nCalculate the correlation between `crime_rate` and `median_home_value`, using\nany method you like.\n\n*Hint*: You might want to use the routines from previous notebooks in the\ntextbook.",
   "metadata": {
    "cell_id": "00011-5dabbc2b-fa77-4b5f-8ec0-a3675b1d9113",
    "deepnote_cell_type": "markdown"
   }
  },
  {
   "cell_type": "code",
   "metadata": {
    "cell_id": "00012-d10c8f9e-fb4c-46fc-9aa8-073ae0d42823",
    "deepnote_cell_type": "code"
   },
   "source": "r_cr_mhv = ...\n# Show the result.\nr_cr_mhv",
   "execution_count": null,
   "outputs": []
  },
  {
   "cell_type": "code",
   "metadata": {
    "cell_id": "00013-d128e5ff-95ea-45bd-b4fe-a722f3d3aabc",
    "deepnote_cell_type": "code"
   },
   "source": "_ = ok.grade('q1_0')",
   "execution_count": null,
   "outputs": []
  },
  {
   "cell_type": "markdown",
   "source": "#### Question 1\n\nThe *residuals* are the values that *remain* in a sequence of values, after we\nhave removed whatever we can predict using other values.\n\nThey have two uses that you will see in this notebook:\n\n* We can use the residuals to *look for patterns*.   These patterns can\n  suggest problems in our original predictions.\n* We can use residuals to investigate what associations *remain* after\n  removing another association.\n\nIn this section we will use residuals as a tool to look for patterns.\n\nWrite a function called `calc_residuals`.  It should take three arguments:\n\n* `input_df`: a data frame\n* `x_col_name`: a string giving the name of column with the values we will use\n  to predict with.\n* `y_col_name`: a string giving the name of column with the values we will use\n  to predict.\n\n`calc_residuals` should first compute the slope and intercept of the least\nsquares regression line that predicts the `y_col_name` column of the data frame\nusing the `x_col_name` column of the data frame. The function should return an\narray containing the *residuals* for that regression line. Recall that\nresiduals are given by \n\n$$residual = observed \\ value - regression \\ estimate$$\n\nWe have also called the \"regression estimate\" above - the \"predicted\" values.\n\n*Hint*: For your convenience, in case you want to use it, here is the\nstandard `ss_any_line` function we have used before:",
   "metadata": {
    "cell_id": "00014-efae46af-3409-401e-9438-ccb71d8f2217",
    "deepnote_cell_type": "markdown"
   }
  },
  {
   "cell_type": "code",
   "metadata": {
    "cell_id": "00015-a5680ecf-4c3c-44c5-aa28-594dcbd2264a",
    "deepnote_cell_type": "code"
   },
   "source": "def ss_any_line(c_s, x_values, y_values):\n    c, s = c_s\n    predicted = c + x_values * s\n    error = y_values - predicted\n    return np.sum(error ** 2)",
   "execution_count": null,
   "outputs": []
  },
  {
   "cell_type": "code",
   "metadata": {
    "deletable": false,
    "for_assignment_type": "student",
    "cell_id": "00016-5164fccb-b14b-4534-8996-757d7c3d8c29",
    "deepnote_cell_type": "code"
   },
   "source": "def calc_residuals(input_df, x_col_name, y_col_name):\n    ...",
   "execution_count": null,
   "outputs": []
  },
  {
   "cell_type": "code",
   "metadata": {
    "deletable": false,
    "cell_id": "00017-22ad1923-027d-49d8-9414-369767e9aa6b",
    "deepnote_cell_type": "code"
   },
   "source": "_ = ok.grade('q1_1')",
   "execution_count": null,
   "outputs": []
  },
  {
   "cell_type": "markdown",
   "source": "#### Question 2",
   "metadata": {
    "cell_id": "00018-0889ed1c-3d14-462a-bcce-99e7eda47fee",
    "deepnote_cell_type": "markdown"
   }
  },
  {
   "cell_type": "markdown",
   "source": "Make a scatter plot of the residuals from predicting `median_home_value` from\nthe `crime_rate`.  Plot the residuals on the vertical axis, and the crime rate\non the horizontal axis.",
   "metadata": {
    "cell_id": "00019-fd67c8cf-cc01-4eb8-b6e8-b324d9f8468d",
    "deepnote_cell_type": "markdown"
   }
  },
  {
   "cell_type": "code",
   "metadata": {
    "deletable": false,
    "cell_id": "00020-38110501-241d-4327-9a71-610846b1f021",
    "deepnote_cell_type": "code"
   },
   "source": "...",
   "execution_count": null,
   "outputs": []
  },
  {
   "cell_type": "markdown",
   "source": "#### Question 3\n\nDoes the plot of residuals look roughly like a formless cloud, or is there\nsome kind of pattern? Are they centered around 0?",
   "metadata": {
    "cell_id": "00021-3a0d0eba-bfdc-48d9-a24a-4524d2765677",
    "deepnote_cell_type": "markdown"
   }
  },
  {
   "cell_type": "markdown",
   "source": "*Write your answer here, replacing this text.*",
   "metadata": {
    "deletable": false,
    "manual_problem_id": "residual_pattern_1",
    "cell_id": "00022-fe6a6785-fbba-424b-9012-31006ec6ed96",
    "deepnote_cell_type": "markdown"
   }
  },
  {
   "cell_type": "markdown",
   "source": "#### Question 4\n\nDoes it seem like a linear model is appropriate for describing the\nrelationship between crime and median home value?\n\nAssign `linear` to `True` if a linear model is appropriate for describing the\nrelationship, and `False` if it is not.",
   "metadata": {
    "cell_id": "00023-11a98e83-367e-4da1-ab0e-69e30891876a",
    "deepnote_cell_type": "markdown"
   }
  },
  {
   "cell_type": "code",
   "metadata": {
    "deletable": false,
    "cell_id": "00024-c66375e7-748f-400f-9fcb-e3034cf83389",
    "deepnote_cell_type": "code"
   },
   "source": "linear = ...",
   "execution_count": null,
   "outputs": []
  },
  {
   "cell_type": "code",
   "metadata": {
    "deletable": false,
    "cell_id": "00025-deea3fbc-2945-4433-af3b-a3d5192c6c05",
    "deepnote_cell_type": "code"
   },
   "source": "_ = ok.grade('q1_4')",
   "execution_count": null,
   "outputs": []
  },
  {
   "cell_type": "markdown",
   "source": "#### Question 5",
   "metadata": {
    "cell_id": "00026-589b998e-28a1-44f2-a949-ed5ee6b0ad22",
    "deepnote_cell_type": "markdown"
   }
  },
  {
   "cell_type": "markdown",
   "source": "So far you have used residuals to look for patterns in the remaining data.  This can give us clues as to where our original predictions are failing.\n\nWe can also use residuals as a measure for what remains, after removing a particular effect.  That is the use we will study here.\n\nYou have just looked at the crime rate as a predictor of house prices, but\nthere are many other columns in this dataset with measures that we would also\nexpect to be relatable to house prices.\n\nPerhaps these other factors can explain a large proportion of the variation in home prices.  Perhaps, if we remove the effects of these other factors, this will reveal a stronger association between crime rate and home prices.  Or perhaps, these other factors are also related to the crime rate, and when we remove these other factors, the association of home prices with crime rate will decrease, because we have already removed the common source of variation.\n\nOne factor we would expect to predict home prices is the average size of the houses, as measured by the average number of rooms.  This measure is in the `n_rooms_avg` column of the dataset.   If the \"town\" tends to have homes with more rooms, we expect these homes to be more expensive on average.\n\nFirst investigate whether `n_rooms_avg` is a possible explanatory factor in\n`median_home_prices`.  Calculate the correlation between `n_rooms_avg` and\n`median_home_value`, using any method you like.  Store the correlation\ncoefficient as `r_nra_mhv` (the name is an abbreviation of \"r of `n_rooms_avg`\nwith `median_home_value`\").",
   "metadata": {
    "cell_id": "00027-00302e8a-4572-443f-92c3-1eb0f8b156f6",
    "deepnote_cell_type": "markdown"
   }
  },
  {
   "cell_type": "code",
   "metadata": {
    "cell_id": "00028-f7938e99-7a4e-4fff-8e5f-d5239b806230",
    "deepnote_cell_type": "code"
   },
   "source": "r_nra_mhv = ...\n# Show the result.\nr_nra_mhv",
   "execution_count": null,
   "outputs": []
  },
  {
   "cell_type": "code",
   "metadata": {
    "cell_id": "00029-199b938b-7dd9-4af7-994a-61dac2a15916",
    "deepnote_cell_type": "code"
   },
   "source": "_ = ok.grade('q1_5')",
   "execution_count": null,
   "outputs": []
  },
  {
   "cell_type": "markdown",
   "source": "#### Question 6",
   "metadata": {
    "cell_id": "00030-de6041f7-6b6e-4fba-949c-cf55bc4df1bf",
    "deepnote_cell_type": "markdown"
   }
  },
  {
   "cell_type": "markdown",
   "source": "Your correlation might have persuaded you that we can predict house prices, to\nsome degree, when we know the `n_rooms_avg` value.\n\nNow we wonder - does the apparent relationship between `crime_rate` and\n`median_home_value` still hold, when we allow for the values in\n`n_rooms_avg`?\n\nAddress this question by *removing* the effect of `n_rooms_avg` on\n`median_home_value`.  Do this by taking the residuals of the\n`median_home_values` after predicting from `n_rooms_avg`.  Then we look at the\ncorrelation of the *residuals* with `crime_rate`.  Calculate and store this\ncorrelation as `r_cr_r_nra` (an abbreviation of \"r of `crime_rate` with the residuals of regressing `n_rooms_avg` on `median_home_value`\").",
   "metadata": {
    "cell_id": "00031-8044de88-6d19-45ee-bb81-453cb0372182",
    "deepnote_cell_type": "markdown"
   }
  },
  {
   "cell_type": "code",
   "metadata": {
    "cell_id": "00032-8b852a89-721e-412a-a694-2e45d5623bdc",
    "deepnote_cell_type": "code"
   },
   "source": "#- Calculate the residuals for median_home_value after predicting from\n#- n_rooms_avg.  Calculate the correlation of these residuals with\n#- crime_rate.\nr_cr_r_nra = ...\n# Show the result\nr_cr_r_nra",
   "execution_count": null,
   "outputs": []
  },
  {
   "cell_type": "code",
   "metadata": {
    "cell_id": "00033-971e9ce3-422c-43f7-95a5-a04447d5d7cc",
    "deepnote_cell_type": "code"
   },
   "source": "_ = ok.grade('q1_6')",
   "execution_count": null,
   "outputs": []
  },
  {
   "cell_type": "markdown",
   "source": "#### Question 7",
   "metadata": {
    "cell_id": "00034-3845a32f-01e3-4a37-b43d-657dfa7ac6fd",
    "deepnote_cell_type": "markdown"
   }
  },
  {
   "cell_type": "markdown",
   "source": "You may have seen above, that once we have adjusted home values with what we\ncan predict from `n_rooms_avg`, the association of the remaining home prices\nwith `crime_rate` is a little less strong, but similar.\n\nThere are other factors recorded in the dataset that might explain house\nprices.  Some of these could have a stronger relationship with `crime_rate`,\nand therefore, explain more of the relationship between `crime_rate` and\n`median_home_value`.\n\nFor example, one rather eye-watering column is `lower_stat_pct`.  It is an\nattempt to measure the percentage of homes in a given Boston suburb owned by\npeople of \"lower social status\".  Specifically, it measures the percentage of\nhome owners that do not have a high-school education, or that have work\nclassified as \"laborers\".  We might expect that people in these categories\nwould have less money, and therefore, will tend to live in suburbs with\ncheaper houses.\n\nWe could also imagine that people with lower incomes will have greater need of\nmoney and therefore, more incentive to the kind of crime that affects\n`crime_rate`.   Maybe, if we remove the effect of `lower_stat_pct` from house\nprices, we will thereby remove the effect of `crime_rate`.\n\nCalculate the residuals after regressing `lower_stat_pct` against `median_home_value`, and then calculate the correlation of these residuals with `crime_rate`.",
   "metadata": {
    "cell_id": "00035-deb91b34-cec4-4ff8-bfcc-25e3fb892137",
    "deepnote_cell_type": "markdown"
   }
  },
  {
   "cell_type": "code",
   "metadata": {
    "cell_id": "00036-0e19ccb7-b544-467f-ae6b-c86a2aa4af43",
    "deepnote_cell_type": "code"
   },
   "source": "#- Calculate the residuals for median_home_value after predicting from\n#- lower_stat_pct.  Calculate the correlation of these residuals with\n#- crime_rate.\nr_cr_r_lsp = ...\n# Show the result\nr_cr_r_lsp",
   "execution_count": null,
   "outputs": []
  },
  {
   "cell_type": "code",
   "metadata": {
    "cell_id": "00037-ad94bd32-e0eb-49a7-966e-e0856e9a2a8e",
    "deepnote_cell_type": "code"
   },
   "source": "_ = ok.grade('q1_7')",
   "execution_count": null,
   "outputs": []
  },
  {
   "cell_type": "markdown",
   "source": "#### Question 8",
   "metadata": {
    "cell_id": "00038-274eb82b-dfa3-47b9-a420-5123d9011ccb",
    "deepnote_cell_type": "markdown"
   }
  },
  {
   "cell_type": "markdown",
   "source": "We hope you found that adjusting for `lower_stat_pct` had a more dramatic effect on the correlation with `crime_rate`.\n\nHowever, these effects of adjusting for different variables can be complicated.\n\nSo far you have seen the correlations can go down when adjusting for other effects that have some relationship with the predictor we are most interested in - `crime_rate`.\n\nIn fact, the relationship between variables can be rather complicated - and correlations can go up or down after adjusting for other variables.\n\nFor example, another step we might take is to use *multiple regression* to\nadjust `median_home_value` *both* for `n_rooms_avg` *and* `lower_stat_pct`.\nAfter we have done that, we can look at the residuals from the multiple\nregression, and see whether these residuals, adjusted for both effects,\ncorrelate with `crime_rate`.\n\n[Remember](https://uob-ds.github.io/cfd2021/classification/single_multiple.html) that, with\nmultiple regression, we use more than one predictor column to predict the\nvalues we are interested in.  In our case we are going to use the\n`n_rooms_avg` and the `lower_stat_pct` predictor columns to predict the values\nin the `median_home_value` column.\n\nWe need to find three values to do this prediction:\n\n* A \"best\" intercept. Call this `intercept`\n* A \"best\" slope for `n_rooms_avg`.  Call this `slope_room`.\n* A \"best\" slope for `lower_stat_pct`.  Call this `slope_stat`.\n\nWe will define \"best\", as usual, as the `intercept`, `slope_room` and\n`slope_stat` such that our predictions for `median_home_value` using these\nvalues, minimize the sums of squared differences from the actual `median_home_value` values.\n\nFor any given `intercept`, `slope_room` and `slope_stat`, our prediction for `median_home_value` will be:\n\n```\nintercept + slope_room * boston['n_rooms_avg'] + slope_stat * boston['lower_stat_pct']\n```\n\nCall the \"best\" three values `[intercept, slope_room, slope_stat]` - the\n*parameters* we are trying to find.\n\nWe will use `minimize` to find our \"best\" parameters.\n\nFirst we need a function `ss_ls_rm_mhv` that takes an array `params`, with\nthree values, and calculates the sum of squared errors.   For simplicity, the\nfunction should take a single parameter `params` that is an array with 3\nelements.   The three elements are respectively:\n\n* The value for the intercept\n* The value for the slope for `n_rooms_avg`\n* The value for the slope for `lower_stat_pct`\n\nThe function will use the `boston` data frame from the top level to get the\nrelevant columns in order to do the calculation.   It returns a single number,\nthe sum of squared differences between the prediction, given the `params`, and\nthe `boston['median_home_value']` column values.\n",
   "metadata": {
    "cell_id": "00039-38b3dc9a-32e7-45be-9168-2bcad11aaea9",
    "deepnote_cell_type": "markdown"
   }
  },
  {
   "cell_type": "code",
   "metadata": {
    "cell_id": "00040-6c614952-08e8-4d4d-a65a-5b7ace036a9b",
    "deepnote_cell_type": "code"
   },
   "source": "def ss_ls_rm_mhv(params):\n    ...",
   "execution_count": null,
   "outputs": []
  },
  {
   "cell_type": "code",
   "metadata": {
    "cell_id": "00041-19e770cd-8b15-447e-a51e-fbf3a3eb2b30",
    "deepnote_cell_type": "code"
   },
   "source": "# Evaluate your function for the parameters [1, 0.5, -0.5]\n# (intercept of 1, slope_room of 0.5, slope_stat of -0.5)\nss_ls_rm_mhv([1, 0.5, -0.5])",
   "execution_count": null,
   "outputs": []
  },
  {
   "cell_type": "code",
   "metadata": {
    "cell_id": "00042-74ebdf48-4832-43d2-9c0a-620bcb0e424f",
    "deepnote_cell_type": "code"
   },
   "source": "_ = ok.grade('q1_8')",
   "execution_count": null,
   "outputs": []
  },
  {
   "cell_type": "markdown",
   "source": "#### Question 9",
   "metadata": {
    "cell_id": "00043-63481bf8-089c-412d-ba0f-0915971ae3db",
    "deepnote_cell_type": "markdown"
   }
  },
  {
   "cell_type": "markdown",
   "source": "Now you have a function you can use with `minimize`.\n\nCall `minimize` and store the result as `min_result`.  The result from a call to minimize has various attributes, including `fun` (the lowest value that the function can return) and `x` (the parameters that result in this lowest value).",
   "metadata": {
    "cell_id": "00044-8de2da81-11f5-475e-8198-7740f1041a20",
    "deepnote_cell_type": "markdown"
   }
  },
  {
   "cell_type": "code",
   "metadata": {
    "cell_id": "00045-e7c2c8ac-b386-44fd-a9ba-532c4bd6a2bf",
    "deepnote_cell_type": "code"
   },
   "source": "min_result = ...\n# Show the returned value.\nmin_result",
   "execution_count": null,
   "outputs": []
  },
  {
   "cell_type": "code",
   "metadata": {
    "cell_id": "00046-9acced2d-cfca-44e4-a94b-dda17577a1c1",
    "deepnote_cell_type": "code"
   },
   "source": "_ = ok.grade('q1_9a')",
   "execution_count": null,
   "outputs": []
  },
  {
   "cell_type": "markdown",
   "source": "With the parameters from `min_result`, calculate the residuals for\n`median_home_value`. Remember, the residuals are `median_home_value` values\nafter subtracting the *prediction* from the intercept and the two slopes.",
   "metadata": {
    "cell_id": "00047-d4cd5709-6353-44e0-a454-2dea7f3b14a2",
    "deepnote_cell_type": "markdown"
   }
  },
  {
   "cell_type": "code",
   "metadata": {
    "cell_id": "00048-219d3aa7-8d43-4d34-bab6-8fa00757351c",
    "deepnote_cell_type": "code"
   },
   "source": "multi_residuals = ...\n# Show the first five residuals\nmulti_residuals[:5]",
   "execution_count": null,
   "outputs": []
  },
  {
   "cell_type": "code",
   "metadata": {
    "cell_id": "00049-8353438d-a9b3-4483-9164-4e705d777fb8",
    "deepnote_cell_type": "code"
   },
   "source": "_ = ok.grade('q1_9b')",
   "execution_count": null,
   "outputs": []
  },
  {
   "cell_type": "markdown",
   "source": "Remember the `fun` attribute of `min_result`.  This is the lowest value that `minimize` could get when calling the function you gave it.  `x` is the array of parameters to pass to the function to give this `fun` value.\n\nYou might want to confirm to yourself that the sum of squares of the residuals you have just calculated for the \"best\" parameters are indeed very close to the value for the `fun` attribute of `min_result`:",
   "metadata": {
    "cell_id": "00050-e743e9a0-ad1b-4397-ae8f-a7d8664aee40",
    "deepnote_cell_type": "markdown"
   }
  },
  {
   "cell_type": "code",
   "metadata": {
    "cell_id": "00051-0e54b6b8-d6d5-417e-9354-b820e78b4eb3",
    "deepnote_cell_type": "code"
   },
   "source": "print('Lowest value from min_result', min_result.fun)\nprint('Sum of squares of residuals', np.sum(multi_residuals ** 2))",
   "execution_count": null,
   "outputs": []
  },
  {
   "cell_type": "markdown",
   "source": "Investigate the effect of adjusting for both `n_rooms_avg` and\n`lower_stat_pct` by calculating the correlation coefficient between the\nresiduals from the multiple regression and `crime_rate`.",
   "metadata": {
    "cell_id": "00052-e11cdc42-3b89-44a2-a73d-fa3b3cb4088b",
    "deepnote_cell_type": "markdown"
   }
  },
  {
   "cell_type": "code",
   "metadata": {
    "cell_id": "00053-4fe309dd-daae-4dd8-bda5-b3b7a9bee166",
    "owner_user_id": "5f0fb4f6-8d26-43c5-91a5-81f71a15528a",
    "deepnote_cell_type": "code"
   },
   "source": "r_cr_r_nra_lsp = ...\n# Show the result\nr_cr_r_nra_lsp",
   "execution_count": null,
   "outputs": []
  },
  {
   "cell_type": "code",
   "metadata": {
    "cell_id": "00054-9dcc13f4-2931-49e8-a20b-7d12781d5379",
    "deepnote_cell_type": "code"
   },
   "source": "_ = ok.grade('q1_9c')",
   "execution_count": null,
   "outputs": []
  },
  {
   "cell_type": "markdown",
   "source": "**For reflection**: Has the correlation gone up or down when we added the\nadjustment for both columns (`n_rooms_avg` and `lower_stat_pct`).  Think about\nwhy that might be.  *Warning* - these multiple regression relationships can be\nhard to think about.\n",
   "metadata": {
    "cell_id": "00055-7533f911-6862-4279-b020-e6d87c7622f2",
    "deepnote_cell_type": "markdown"
   }
  },
  {
   "cell_type": "markdown",
   "source": "## 2. Reading Sign Language with Classification",
   "metadata": {
    "cell_id": "00056-bbed7c7a-b89d-4895-8756-a45677077444",
    "deepnote_cell_type": "markdown"
   }
  },
  {
   "cell_type": "markdown",
   "source": "Brazilian Sign Language is a visual language used primarily by Brazilians who\nare deaf.  It is more commonly called Libras.  People who communicate with\nvisual language are called *signers*.  Here is a video of someone signing in\nLibras: https://www.youtube.com/watch?v=SiJUggsJ3e8",
   "metadata": {
    "cell_id": "00057-ee6be191-d950-4ce0-82cb-ed95c3032e03",
    "deepnote_cell_type": "markdown"
   }
  },
  {
   "cell_type": "markdown",
   "source": "Programs like Siri or Google Now begin the process of understanding human\nspeech by classifying short clips of raw sound into basic categories called\n*phones*.  For example, the recorded sound of someone saying the word \"robot\"\nmight be broken down into several phones: \"rrr\", \"oh\", \"buh\", \"aah\", and\n\"tuh\".  Phones are then grouped together into further categories like words\n(\"robot\") and sentences (\"I, for one, welcome our new robot overlords\") that\ncarry more meaning.\n\nA visual language like Libras has an analogous structure.  Instead of phones,\neach word is made up of several *hand movements*.  As a first step in\ninterpreting Libras, we can break down a video clip into small segments, each\ncontaining a single hand movement.  The task is then to figure out what hand\nmovement each segment represents.\n\nWe can do that with classification!\n\nThe [data](https://archive.ics.uci.edu/ml/machine-learning-databases/libras/movement_libras.names) in this exercise come from Dias, Peres, and Biscaro, researchers at the University of Sao Paulo in Brazil.  They identified 15 distinct hand movements in Libras (probably an oversimplification, but a useful one) and captured short videos of signers making those hand movements.  (You can read more about their work [here](http://ieeexplore.ieee.org/Xplore/login.jsp?url=http%3A%2F%2Fieeexplore.ieee.org%2Fiel5%2F5161636%2F5178557%2F05178917.pdf&authDecision=-203). The paper is gated, so you will need to use your institution's Wi-Fi or VPN to access it.)\n\nFor each video, they chose 45 still frames from the video and identified the\nlocation (in horizontal and vertical coordinates) of the signer's hand in each\nframe.  Since there are two coordinates for each frame, this gives us a total\nof 90 numbers summarizing how a hand moved in each video.  Those 90 numbers\nwill be our *attributes*.\n\nEach video is *labeled* with the kind of hand movement the signer was making in it.  Each label is one of 15 strings like \"horizontal swing\" or \"vertical zigzag\".\n\nFor simplicity, we're going to focus on distinguishing between just two kinds\nof movements: \"horizontal straight-line\" and \"vertical straight-line\".  We\ntook the Sao Paulo researchers' original dataset, which was quite small, and\nused some simple techniques to create a much larger synthetic dataset.\n\nThese data are in the file `movements.csv`.  Run the next cell to load it.",
   "metadata": {
    "cell_id": "00058-abdc5f79-dfad-4ea8-9faa-4d748c8ca65a",
    "deepnote_cell_type": "markdown"
   }
  },
  {
   "cell_type": "code",
   "metadata": {
    "deletable": false,
    "cell_id": "00059-6f56e263-d904-494b-b555-ace06449977f",
    "deepnote_cell_type": "code"
   },
   "source": "movements = pd.read_csv(\"movements.csv\")\nmovements.head()",
   "execution_count": null,
   "outputs": []
  },
  {
   "cell_type": "markdown",
   "source": "The cell below displays movements graphically.  Run it and use the slider to\nanswer the next question.",
   "metadata": {
    "cell_id": "00060-f444958c-5d0a-47e4-9776-4e7926ed96bc",
    "deepnote_cell_type": "markdown"
   }
  },
  {
   "cell_type": "code",
   "metadata": {
    "deletable": false,
    "cell_id": "00061-ceecbd10-c1ad-4007-b589-aba8bca3e688",
    "deepnote_cell_type": "code"
   },
   "source": "# Change the X value of display_whole_movement(X) to see plots of different movements\n# e.g. display_whole_movement(2) to see the third movement\n# Run this cell a number of times, changing the movement number, to get a feeling for what\n# different movements look like\n\ndef display_whole_movement(row_idx):\n    n, p = movements.shape\n    num_frames = int((p - 1)/2)\n    row = movements.drop(\"Movement type\", axis=1).iloc[row_idx]\n    xs = row.iloc[np.arange(0, 2*num_frames, 2)]\n    ys = row.iloc[np.arange(1, 2*num_frames, 2)]\n    plt.figure(figsize=(5,5))\n    plt.plot(xs, ys, c=\"gold\")\n    xmax=np.max(xs)\n    xmin=np.min(xs)\n    ymax=np.max(ys)\n    ymin=np.min(ys)\n    xrange=xmax-xmin\n    yrange=ymax-ymin\n    plot_margin = 0.2\n    if(xrange > yrange):\n        half_range=(xrange*(1+plot_margin))/2\n    else:\n        half_range=(yrange*(1+plot_margin))/2\n    xmidpoint=xmin+xrange/2\n    ymidpoint=ymin+yrange/2\n    plt.xlabel(\"x\")\n    plt.ylabel(\"y\")\n    xplotmin=xmidpoint-half_range\n    xplotmax=xmidpoint+half_range\n    yplotmin=ymidpoint-half_range\n    yplotmax=ymidpoint+half_range\n    plt.xlim(xplotmin, xplotmax)\n#    plt.ylim(-.5, 1.5)\n    plt.ylim(yplotmin,yplotmax)\n    plt.gca().set_aspect('equal', adjustable='box')\n    \ndisplay_whole_movement(6)",
   "execution_count": null,
   "outputs": []
  },
  {
   "cell_type": "markdown",
   "source": "#### Question 1",
   "metadata": {
    "cell_id": "00062-75860dec-ac77-4515-9bc8-ac4c4b6ffec1",
    "deepnote_cell_type": "markdown"
   }
  },
  {
   "cell_type": "markdown",
   "source": "Before we move on, check your understanding of the dataset.  Judging by the\nplot, is the first movement example a vertical motion, or a horizontal motion?\nIf it is hard to tell, does it seem more likely to be vertical or horizontal?\nThis is the kind of question a classifier has to answer.  Find out the right\nanswer by looking at the `\"Movement type\"` column.\n\nAssign `first_movement` to `1` if the movement was vertical, or `2` if the movement was horizontal.",
   "metadata": {
    "cell_id": "00063-16706d28-a020-400a-a46c-4087db0c43fd",
    "deepnote_cell_type": "markdown"
   }
  },
  {
   "cell_type": "code",
   "metadata": {
    "deletable": false,
    "cell_id": "00064-0559d5dc-99c6-443f-b36f-dfe16dde253a",
    "deepnote_cell_type": "code"
   },
   "source": "first_movement = ...",
   "execution_count": null,
   "outputs": []
  },
  {
   "cell_type": "code",
   "metadata": {
    "deletable": false,
    "cell_id": "00065-6f9331e6-0d24-4294-a126-61f1b01eac5e",
    "deepnote_cell_type": "code"
   },
   "source": "_ = ok.grade('q2_1')",
   "execution_count": null,
   "outputs": []
  },
  {
   "cell_type": "markdown",
   "source": "### Splitting the dataset",
   "metadata": {
    "cell_id": "00066-2ebcd363-e569-48a6-a4b8-dad559064dd6",
    "deepnote_cell_type": "markdown"
   }
  },
  {
   "cell_type": "markdown",
   "source": "We'll do 2 different kinds of things with the `movements` dataset:\n\n1. We'll build a classifier that uses the movements with known labels as\n   examples to classify similar movements.  This is called *training*.\n2. We'll evaluate or *test* the accuracy of the classifier we build.\n\nFor reasons discussed in lecture and the textbook, we want to use separate\ndatasets for these two purposes.  So we split up our one dataset into two.\n",
   "metadata": {
    "cell_id": "00067-57808d91-2805-4c6a-aeff-e35bcc9b4df3",
    "deepnote_cell_type": "markdown"
   }
  },
  {
   "cell_type": "markdown",
   "source": "#### Question 2",
   "metadata": {
    "cell_id": "00068-5d8fdf7f-50e2-4a6b-8c35-38722f7d1d8b",
    "deepnote_cell_type": "markdown"
   }
  },
  {
   "cell_type": "markdown",
   "source": "Create a data frame called `train_movements` and another data frame called\n`test_movements`.  `train_movements` should include the first\n$\\frac{11}{16}$th of the rows in `movements` (rounded to the nearest integer),\nand `test_movements` should include the remaining $\\frac{5}{16}$th.\n\nNote that we do **not** mean the first 11 rows for the training test and rows\n12-16 for the test set. We mean the first $\\frac{11}{16} = 68.75$% of the\ndata frame should be for the training set, and the rest should be for the test\nset.\n\n*Hint:* Use the dataset `iloc` indexing.",
   "metadata": {
    "cell_id": "00069-825618fa-558c-46e7-8edf-fefd943f679b",
    "deepnote_cell_type": "markdown"
   }
  },
  {
   "cell_type": "code",
   "metadata": {
    "deletable": false,
    "for_assignment_type": "student",
    "cell_id": "00070-67b9d4f1-aea1-4e09-98b0-84be7fc3c015",
    "deepnote_cell_type": "code"
   },
   "source": "training_proportion = 11/16\nnum_movements = len(movements)\nnum_train = int(round(num_movements * training_proportion))\ntrain_movements = ...\ntest_movements = ...\nprint(\"Training set:\\t\", len(train_movements), \"examples\")\nprint(\"Test set:\\t\", len(test_movements), \"examples\")",
   "execution_count": null,
   "outputs": []
  },
  {
   "cell_type": "code",
   "metadata": {
    "deletable": false,
    "cell_id": "00071-eea69d94-17a7-4ce3-906d-a1207a8d2c08",
    "deepnote_cell_type": "code"
   },
   "source": "_ = ok.grade('q2_2')",
   "execution_count": null,
   "outputs": []
  },
  {
   "cell_type": "markdown",
   "source": "### Using only 2 features",
   "metadata": {
    "cell_id": "00072-0ae46450-a601-42eb-9d63-e9e78ca88ef5",
    "deepnote_cell_type": "markdown"
   }
  },
  {
   "cell_type": "markdown",
   "source": "First let's see how well we can distinguish two movements (a vertical line and a horizontal line) using the hand position from just a single frame (without the other 44).\n",
   "metadata": {
    "cell_id": "00073-c2a78af7-bd07-4a19-8e08-afc5c86a2620",
    "deepnote_cell_type": "markdown"
   }
  },
  {
   "cell_type": "markdown",
   "source": "#### Question 3",
   "metadata": {
    "cell_id": "00074-0c480d2f-28bc-46fc-a2d6-dcc6146fb08b",
    "deepnote_cell_type": "markdown"
   }
  },
  {
   "cell_type": "markdown",
   "source": "Make a data frame called `train_two_features` with only 3 columns: the first\nframe’s x coordinate and first frame’s y coordinate are our chosen features,\nas well as the movement type; only the examples in `train_movements`.\n\nYou might want to scroll up to check the column names in the data frame.",
   "metadata": {
    "cell_id": "00075-f334b345-5b5e-46f7-82fd-a6bd087fc2bb",
    "deepnote_cell_type": "markdown"
   }
  },
  {
   "cell_type": "code",
   "metadata": {
    "deletable": false,
    "cell_id": "00076-db949c93-268b-4784-82be-acc033e0ce60",
    "deepnote_cell_type": "code"
   },
   "source": "train_two_features = ...\ntrain_two_features",
   "execution_count": null,
   "outputs": []
  },
  {
   "cell_type": "code",
   "metadata": {
    "deletable": false,
    "cell_id": "00077-5efa763c-7ce2-4889-92d9-f2db4239445a",
    "deepnote_cell_type": "code"
   },
   "source": "_ = ok.grade('q2_3')",
   "execution_count": null,
   "outputs": []
  },
  {
   "cell_type": "markdown",
   "source": "Now we want to make a scatter plot of the frame coordinates, where the dots\nfor horizontal straight-line movements have one color and the dots for\nvertical straight-line movements have another color.  Here is a scatter plot\nwithout colors:",
   "metadata": {
    "cell_id": "00078-6bbe338a-c196-4bb2-9043-5d56803fa4ad",
    "deepnote_cell_type": "markdown"
   }
  },
  {
   "cell_type": "code",
   "metadata": {
    "deletable": false,
    "cell_id": "00079-58398d12-f609-42d5-b3b5-437951e00e0c",
    "deepnote_cell_type": "code"
   },
   "source": "train_two_features.plot.scatter(\"Frame 1 x\", \"Frame 1 y\")",
   "execution_count": null,
   "outputs": []
  },
  {
   "cell_type": "markdown",
   "source": "This isn't useful because we don't know which dots are which movement type.\nWe need to tell Python how to color the dots.  Let's use gold for vertical and\nblue for horizontal movements.\n\n`scatter` takes an extra argument called `c` that's the name of an extra\ncolumn in the data frame that contains colors (strings like \"red\" or \"orange\")\nfor each row.  So we need to create a data frame like this:\n\n|Frame 1 x|Frame 1 y|Movement type|Color|\n|-|-|-|-|\n|0.522768|0.769731|vertical straight-line|gold|\n|0.179546|0.658986|horizontal straight-line|blue|\n|...|...|...|...|\n",
   "metadata": {
    "cell_id": "00080-31a14b42-69ea-4268-964c-56aee45046e0",
    "deepnote_cell_type": "markdown",
    "deepnote_cell_height": 261.265625
   }
  },
  {
   "cell_type": "markdown",
   "source": "#### Question 4\n\nIn the cell below, create a *new* data frame named `with_colors`.  It should\nhave the same columns as the example data frame above, but with a row for each\nrow in `train_two_features`. Then, create a scatter plot of your data.",
   "metadata": {
    "cell_id": "00081-fc57f2be-8f99-4b63-91a1-9ae85fdde47b",
    "deepnote_cell_type": "markdown",
    "deepnote_cell_height": 130.390625
   }
  },
  {
   "cell_type": "code",
   "metadata": {
    "deletable": false,
    "manual_grade": true,
    "manual_problem_id": "sign_lang_2",
    "cell_id": "00082-68bb6a08-113a-4eae-ac44-f1cceed4c46c",
    "owner_user_id": "7202baf8-5dbc-4ad9-88d9-cb8550d4e775",
    "deepnote_cell_type": "code",
    "deepnote_cell_height": 83.6875
   },
   "source": "with_colors = train_two_features.copy()\nwith_colors = ...",
   "execution_count": null,
   "outputs": []
  },
  {
   "cell_type": "markdown",
   "source": "#### Question 5",
   "metadata": {
    "cell_id": "00083-6add27fe-11b7-4b1e-8c0b-5c35ba0651cb",
    "deepnote_cell_type": "markdown",
    "deepnote_cell_height": 53.171875
   }
  },
  {
   "cell_type": "markdown",
   "source": "Based on the scatter plot, how well will a nearest-neighbor classifier based on only these 2 features (the x- and y-coordinates of the hand position in the first frame) work?  Will it:\n\n1. distinguish almost perfectly between vertical and horizontal movements;\n2. distinguish somewhat well between vertical and horizontal movements,\n   getting some correct but missing a substantial proportion; or\n3. be basically useless in distinguishing between vertical and horizontal\n   movements?\n\nWhy?",
   "metadata": {
    "cell_id": "00084-16e3515c-5a08-46fe-b468-4107dbfb84ac",
    "deepnote_cell_type": "markdown",
    "deepnote_cell_height": 215.828125
   }
  },
  {
   "cell_type": "markdown",
   "source": "*Write your answer here, replacing this text.*",
   "metadata": {
    "deletable": false,
    "lines_to_next_cell": 2,
    "manual_grade": true,
    "manual_problem_id": "sign_lang_3",
    "cell_id": "00085-843d4152-8b51-4573-8d90-e65249888283",
    "deepnote_cell_type": "markdown"
   }
  },
  {
   "cell_type": "markdown",
   "source": "## 3. Classification Potpourri",
   "metadata": {
    "cell_id": "00086-79266c70-b29d-428e-a3db-fa7d1eb0a941",
    "deepnote_cell_type": "markdown"
   }
  },
  {
   "cell_type": "markdown",
   "source": "Throughout this question, we will aim to discuss some conceptual nuances of\nclassification that often get overlooked when we're focused only on improving\nour accuracy and building the best classifier possible. \n",
   "metadata": {
    "cell_id": "00087-21cf37cc-c85e-4a97-84f8-111464f0ad1c",
    "deepnote_cell_type": "markdown"
   }
  },
  {
   "cell_type": "markdown",
   "source": "#### Question 1",
   "metadata": {
    "cell_id": "00088-2c756a79-0873-4943-8876-0fe66cdf755b",
    "deepnote_cell_type": "markdown"
   }
  },
  {
   "cell_type": "markdown",
   "source": "What is the point of a test-set? Should we use our test set to find the best\npossible number of neighbors for a k-NN classifier? Explain.",
   "metadata": {
    "cell_id": "00089-be9ef68e-1489-4703-adb8-0002289bb1b5",
    "deepnote_cell_type": "markdown"
   }
  },
  {
   "cell_type": "markdown",
   "source": "*Write your answer here, replacing this text.*",
   "metadata": {
    "deletable": false,
    "lines_to_next_cell": 2,
    "manual_grade": true,
    "manual_problem_id": "potpourri_1",
    "cell_id": "00090-c19e9811-adbd-40d9-98a3-047ab813dae5",
    "deepnote_cell_type": "markdown"
   }
  },
  {
   "cell_type": "markdown",
   "source": "#### Question 2",
   "metadata": {
    "cell_id": "00091-73b195e9-216a-4638-b6c3-08ade335288c",
    "deepnote_cell_type": "markdown"
   }
  },
  {
   "cell_type": "markdown",
   "source": "You have a large dataset `breast-cancer` which has three columns. The first\ntwo are attributes of the person that might be predictive of whether or not\nsomeone has breast-cancer, and the third column indicates whether they have it\nor not. 99% of the data frame contains examples of people who do not have\nbreast cancer.\n\nImagine you are trying to use a k-NN classifier to use the first two columns\nto predict whether or not someone has breast cancer. You split your training\nand test set up as necessary, you develop a 7 Nearest Neighbors classifier,\nand you notice your classifier predicts every point in the test set to be a\nperson who does not have breast cancer. Is there a problem with your\nclassifier? Explain this phenomenon.",
   "metadata": {
    "cell_id": "00092-c2c2573b-ee95-4e75-956d-45860108c8e1",
    "deepnote_cell_type": "markdown"
   }
  },
  {
   "cell_type": "markdown",
   "source": "*Write your answer here, replacing this text.*",
   "metadata": {
    "deletable": false,
    "lines_to_next_cell": 2,
    "manual_grade": true,
    "manual_problem_id": "potpourri_2",
    "cell_id": "00093-baf1015b-26ad-4e52-831e-c8878d005b20",
    "deepnote_cell_type": "markdown"
   }
  },
  {
   "cell_type": "markdown",
   "source": "#### Question 3",
   "metadata": {
    "cell_id": "00094-d1d4c602-760c-4c6f-b962-0848de8f6e96",
    "deepnote_cell_type": "markdown"
   }
  },
  {
   "cell_type": "markdown",
   "source": "You have a training set of 35 examples of characteristics of fruits along with\nwhat fruit is actually being described. 25 of the examples of Apples, and 10\nof the examples are Oranges.\n\nYou decide to make a k-NN classifier. Assign `k_upper_bound` to the smallest\nvalue of k such that the classifier will *always* predict Apple for *every*\npoint, regardless of how the data is actually spread out.\n\nImagine that ties are broken at random for even values of k, so there is no\nguarantee of what will be picked if there is a tie.\n",
   "metadata": {
    "cell_id": "00095-bf4f847c-fe9e-48b9-8b17-bf3dc071d324",
    "deepnote_cell_type": "markdown"
   }
  },
  {
   "cell_type": "code",
   "metadata": {
    "deletable": false,
    "cell_id": "00096-c82cd43f-16fe-4bd5-ad03-358e64054c62",
    "deepnote_cell_type": "code"
   },
   "source": "k_upper_bound = ...",
   "execution_count": null,
   "outputs": []
  },
  {
   "cell_type": "code",
   "metadata": {
    "deletable": false,
    "cell_id": "00097-ddaa364b-9a3f-4a25-a3c6-10811e50e690",
    "deepnote_cell_type": "code"
   },
   "source": "_ = ok.grade('q3_3')",
   "execution_count": null,
   "outputs": []
  },
  {
   "cell_type": "markdown",
   "source": "## Done\n\nYou're finished with the assignment!  Be sure to...\n\n- **run all the tests** (the next cell has a shortcut for that),\n- **Save and Checkpoint** from the \"File\" menu.\n- Finally, **restart** the kernel for this notebook, and **run all the\n  cells**, to check that the notebook still works without errors.  Use the\n  \"Kernel\" menu, and choose \"Restart and run all\".  If you find any problems,\n  go back and fix them, save the notebook, and restart / run all again, before\n  submitting.  When you do this, you make sure that we, your humble markers,\n  will be able to mark your notebook.",
   "metadata": {
    "cell_id": "00098-75c1688a-81af-4031-997d-f1d6307346f1",
    "deepnote_cell_type": "markdown"
   }
  },
  {
   "cell_type": "code",
   "metadata": {
    "cell_id": "00099-15b7d1b6-90e3-4e17-a477-b300afe38339",
    "deepnote_cell_type": "code"
   },
   "source": "# For your convenience, you can run this cell to run all the tests at once!\nimport os\n_ = [ok.grade(q[:-3]) for q in os.listdir(\"tests\") if q.startswith('q')]",
   "execution_count": null,
   "outputs": []
  },
  {
   "cell_type": "markdown",
   "source": "<a style='text-decoration:none;line-height:16px;display:flex;color:#5B5B62;padding:10px;justify-content:end;' href='https://deepnote.com?utm_source=created-in-deepnote-cell&projectId=1c17e9cc-849f-47ac-b8e8-1c59753809f4' target=\"_blank\">\n<img alt='Created in deepnote.com' style='display:inline;max-height:16px;margin:0px;margin-right:7.5px;' src='data:image/svg+xml;base64,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' > </img>\nCreated in <span style='font-weight:600;margin-left:4px;'>Deepnote</span></a>",
   "metadata": {
    "tags": [],
    "created_in_deepnote_cell": true,
    "deepnote_cell_type": "markdown"
   }
  }
 ],
 "nbformat": 4,
 "nbformat_minor": 5,
 "metadata": {
  "jupytext": {
   "notebook_metadata_filter": "all,-language_info",
   "split_at_heading": true,
   "text_representation": {
    "extension": ".Rmd",
    "format_name": "rmarkdown",
    "format_version": "1.2",
    "jupytext_version": "1.10.3"
   }
  },
  "kernelspec": {
   "display_name": "Python 3 (ipykernel)",
   "language": "python",
   "name": "python3"
  },
  "deepnote_notebook_id": "26403751-16b0-4d62-bfc3-f7184031ae01",
  "deepnote": {},
  "deepnote_execution_queue": []
 }
}